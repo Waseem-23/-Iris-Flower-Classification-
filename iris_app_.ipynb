{
  "nbformat": 4,
  "nbformat_minor": 0,
  "metadata": {
    "colab": {
      "provenance": []
    },
    "kernelspec": {
      "name": "python3",
      "display_name": "Python 3"
    },
    "language_info": {
      "name": "python"
    }
  },
  "cells": [
    {
      "cell_type": "code",
      "execution_count": 1,
      "metadata": {
        "colab": {
          "base_uri": "https://localhost:8080/",
          "height": 650
        },
        "id": "fTVNozLWyv2r",
        "outputId": "825c0677-59ef-4168-abd9-03ed6a6e2b5d"
      },
      "outputs": [
        {
          "output_type": "stream",
          "name": "stdout",
          "text": [
            "It looks like you are running Gradio on a hosted Jupyter notebook, which requires `share=True`. Automatically setting `share=True` (you can turn this off by setting `share=False` in `launch()` explicitly).\n",
            "\n",
            "Colab notebook detected. To show errors in colab notebook, set debug=True in launch()\n",
            "* Running on public URL: https://73c73930aedc6dd974.gradio.live\n",
            "\n",
            "This share link expires in 1 week. For free permanent hosting and GPU upgrades, run `gradio deploy` from the terminal in the working directory to deploy to Hugging Face Spaces (https://huggingface.co/spaces)\n"
          ]
        },
        {
          "output_type": "display_data",
          "data": {
            "text/plain": [
              "<IPython.core.display.HTML object>"
            ],
            "text/html": [
              "<div><iframe src=\"https://73c73930aedc6dd974.gradio.live\" width=\"100%\" height=\"500\" allow=\"autoplay; camera; microphone; clipboard-read; clipboard-write;\" frameborder=\"0\" allowfullscreen></iframe></div>"
            ]
          },
          "metadata": {}
        },
        {
          "output_type": "execute_result",
          "data": {
            "text/plain": []
          },
          "metadata": {},
          "execution_count": 1
        }
      ],
      "source": [
        "# Install gradio if not already\n",
        "# !pip install gradio\n",
        "\n",
        "import pandas as pd\n",
        "import gradio as gr\n",
        "import numpy as np\n",
        "from sklearn.model_selection import train_test_split\n",
        "from sklearn.linear_model import LogisticRegression\n",
        "from sklearn.tree import DecisionTreeClassifier\n",
        "from sklearn.preprocessing import LabelEncoder\n",
        "\n",
        "# Load dataset\n",
        "df = pd.read_csv('/content/IRIS (1).csv')\n",
        "\n",
        "# Prepare data\n",
        "X = df.drop('species', axis=1)\n",
        "y = df['species']\n",
        "le = LabelEncoder()\n",
        "y_encoded = le.fit_transform(y)\n",
        "\n",
        "# Split data\n",
        "X_train, X_test, y_train, y_test = train_test_split(X, y_encoded, test_size=0.2, random_state=42, stratify=y_encoded)\n",
        "\n",
        "# Train models\n",
        "lr_model = LogisticRegression(max_iter=200)\n",
        "lr_model.fit(X_train, y_train)\n",
        "\n",
        "dt_model = DecisionTreeClassifier(random_state=42)\n",
        "dt_model.fit(X_train, y_train)\n",
        "\n",
        "# Gradio prediction function\n",
        "def classify_iris(sepal_length, sepal_width, petal_length, petal_width, model_choice):\n",
        "    input_features = np.array([[sepal_length, sepal_width, petal_length, petal_width]])\n",
        "    if model_choice == \"Logistic Regression\":\n",
        "        pred = lr_model.predict(input_features)[0]\n",
        "    else:\n",
        "        pred = dt_model.predict(input_features)[0]\n",
        "    return f\"Predicted species: {le.inverse_transform([pred])[0]}\"\n",
        "\n",
        "# Gradio Interface\n",
        "with gr.Blocks() as iris_app:\n",
        "    gr.Markdown(\"## 🌸 Iris Flower Classifier App\")\n",
        "    gr.Markdown(\"Enter flower dimensions and choose a model:\")\n",
        "\n",
        "    with gr.Row():\n",
        "        sepal_length = gr.Number(label=\"Sepal Length (cm)\", value=5.1)\n",
        "        sepal_width = gr.Number(label=\"Sepal Width (cm)\", value=3.5)\n",
        "\n",
        "    with gr.Row():\n",
        "        petal_length = gr.Number(label=\"Petal Length (cm)\", value=1.4)\n",
        "        petal_width = gr.Number(label=\"Petal Width (cm)\", value=0.2)\n",
        "\n",
        "    model_choice = gr.Radio([\"Logistic Regression\", \"Decision Tree\"], label=\"Model\", value=\"Logistic Regression\")\n",
        "    predict_btn = gr.Button(\"Predict\")\n",
        "\n",
        "    output = gr.Textbox(label=\"Prediction\")\n",
        "\n",
        "    predict_btn.click(\n",
        "        classify_iris,\n",
        "        inputs=[sepal_length, sepal_width, petal_length, petal_width, model_choice],\n",
        "        outputs=output\n",
        "    )\n",
        "\n",
        "iris_app.launch()\n"
      ]
    }
  ]
}